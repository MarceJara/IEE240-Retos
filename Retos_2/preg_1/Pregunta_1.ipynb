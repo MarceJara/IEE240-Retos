{
 "cells": [
  {
   "cell_type": "markdown",
   "id": "0a8dd05c",
   "metadata": {},
   "source": [
    "Importamos las librerías que vamos a necesitar"
   ]
  },
  {
   "cell_type": "code",
   "execution_count": 1,
   "id": "dded3db5",
   "metadata": {},
   "outputs": [],
   "source": [
    "import numpy as np\n",
    "import ctypes\n",
    "import time\n",
    "import statistics\n",
    "import matplotlib.pyplot as plt"
   ]
  },
  {
   "cell_type": "code",
   "execution_count": 2,
   "id": "8db58965",
   "metadata": {},
   "outputs": [],
   "source": [
    "arr = np.random.rand(7)"
   ]
  },
  {
   "cell_type": "markdown",
   "id": "692c36b9",
   "metadata": {},
   "source": [
    "Creamos nuestra función de varianza en C"
   ]
  },
  {
   "cell_type": "code",
   "execution_count": 3,
   "id": "04b4d225",
   "metadata": {},
   "outputs": [
    {
     "name": "stdout",
     "output_type": "stream",
     "text": [
      "Overwriting cVarianza.c\n"
     ]
    }
   ],
   "source": [
    "%%file cVarianza.c\n",
    "#include <stdio.h>\n",
    "#include <stdlib.h>\n",
    "#include <math.h>\n",
    "\n",
    "double cVarianza(double *arr,int N){\n",
    "    double mu = 0;\n",
    "    for (int i = 0; i < N; i++)\n",
    "    {\n",
    "        mu += arr[i];\n",
    "    }\n",
    "    mu = N != 0 ? mu/(double)N : 0;\n",
    "    //return N != 0 ? mu/(double)N : 0;\n",
    "\n",
    "    double sum = 0;\n",
    "\n",
    "    for (int i = 0; i < N; i++)\n",
    "    {\n",
    "        sum += pow(arr[i]-mu,2);\n",
    "    }\n",
    "    \n",
    "    return N != 0 ? sum/(double)N : 0;\n",
    "}"
   ]
  },
  {
   "cell_type": "markdown",
   "id": "76e9eafd",
   "metadata": {},
   "source": [
    "Linkeamos el ejecutable de C como una librería compartida para usar en python"
   ]
  },
  {
   "cell_type": "code",
   "execution_count": 4,
   "id": "e4b78923",
   "metadata": {},
   "outputs": [],
   "source": [
    "! gcc -c -Wall -Werror -fpic cVarianza.c\n",
    "! gcc -shared cVarianza.o -o _cVarianza.so"
   ]
  },
  {
   "cell_type": "markdown",
   "id": "4dd9d313",
   "metadata": {},
   "source": [
    "Definimos la función con ctypes en python"
   ]
  },
  {
   "cell_type": "code",
   "execution_count": 5,
   "id": "ebc50a4f",
   "metadata": {},
   "outputs": [],
   "source": [
    "def ctypes_cVarianza():\n",
    "    # ruta de la shared library\n",
    "    lib = ctypes.CDLL('./_cVarianza.so')\n",
    "    \n",
    "    # tipo de los argumentos\n",
    "    lib.cVarianza.argtypes = [\n",
    "        np.ctypeslib.ndpointer(dtype = np.float64),\n",
    "        ctypes.c_int\n",
    "    ]\n",
    "\n",
    "    # definimos el tipo de salida de la función\n",
    "    lib.cVarianza.restype = ctypes.c_double\n",
    "\n",
    "    # se devuelve la función configurada\n",
    "    return lib.cVarianza"
   ]
  },
  {
   "cell_type": "code",
   "execution_count": 6,
   "id": "fff8b35b",
   "metadata": {},
   "outputs": [],
   "source": [
    "cVarianza = ctypes_cVarianza()"
   ]
  },
  {
   "cell_type": "markdown",
   "id": "c563857e",
   "metadata": {},
   "source": [
    "Probamos nuestra función"
   ]
  },
  {
   "cell_type": "code",
   "execution_count": 7,
   "id": "db0d7141",
   "metadata": {},
   "outputs": [
    {
     "name": "stdout",
     "output_type": "stream",
     "text": [
      "Arreglo: [0.74671483 0.64799793 0.13995442 0.79571116 0.31613709 0.79493711\n",
      " 0.18363634]\n",
      "Varianza: 0.07407051566887539\n"
     ]
    }
   ],
   "source": [
    "print(\"Arreglo:\",end = \" \")\n",
    "print(arr)\n",
    "var = cVarianza(arr, arr.size)\n",
    "print(\"Varianza:\",end = \" \")\n",
    "print(var)"
   ]
  },
  {
   "cell_type": "markdown",
   "id": "5c365152",
   "metadata": {},
   "source": [
    "Implementamos la misma función en lenguaje ensamblador"
   ]
  },
  {
   "cell_type": "code",
   "execution_count": 8,
   "id": "27e5bd0b",
   "metadata": {},
   "outputs": [
    {
     "name": "stdout",
     "output_type": "stream",
     "text": [
      "Overwriting asmVarianza.asm\n"
     ]
    }
   ],
   "source": [
    "%%file asmVarianza.asm\n",
    "    global asmVarianza\n",
    "    section .text\n",
    "asmVarianza:\n",
    "    xorpd xmm0,xmm0\n",
    "    xorpd xmm1,xmm1\n",
    "    xorpd xmm6,xmm6\n",
    "    xorpd xmm7,xmm7\n",
    "    mov r8,0\n",
    "    mov rcx, rsi\n",
    "    cvtsi2sd xmm6, rsi\n",
    "    cmp rsi,0\n",
    "    je done\n",
    "mu:\n",
    "    movsd xmm0, [rdi + r8]\n",
    "    addsd xmm1,xmm0\n",
    "    add r8,8\n",
    "    loop mu\n",
    "        \n",
    "    divsd xmm1,xmm6 ;Guardamos en xmm1 el mu\n",
    "    \n",
    "    mov rcx, rsi\n",
    "    mov r8,0\n",
    "    \n",
    "varianza:\n",
    "    movsd xmm0, [rdi + r8]\n",
    "    subsd xmm0,xmm1\n",
    "    mulsd xmm0,xmm0\n",
    "    addsd xmm7,xmm0\n",
    "    add r8,8\n",
    "    loop varianza\n",
    "\n",
    "    divsd xmm7,xmm6\n",
    "    movsd xmm0, xmm7\n",
    "done:\n",
    "    ret "
   ]
  },
  {
   "cell_type": "code",
   "execution_count": 9,
   "id": "229af872",
   "metadata": {},
   "outputs": [
    {
     "name": "stdout",
     "output_type": "stream",
     "text": [
      "Overwriting asmVarianza.c\n"
     ]
    }
   ],
   "source": [
    "%%file asmVarianza.c\n",
    "extern double asmVarianza(double *arr, int size);"
   ]
  },
  {
   "cell_type": "code",
   "execution_count": 10,
   "id": "b0b57d2b",
   "metadata": {},
   "outputs": [],
   "source": [
    "! nasm -f elf64 -g asmVarianza.asm -o asmVarianza.o\n",
    "! gcc -shared asmVarianza.o asmVarianzaC.c -o asmVarianza.so"
   ]
  },
  {
   "cell_type": "markdown",
   "id": "3b89081b",
   "metadata": {},
   "source": [
    "Definimos la función con ctypes en python"
   ]
  },
  {
   "cell_type": "code",
   "execution_count": 11,
   "id": "b52e63c5",
   "metadata": {},
   "outputs": [],
   "source": [
    "def ctypes_asmVarianza():\n",
    "    # ruta de la shared library\n",
    "    lib = ctypes.CDLL('./asmVarianza.so')\n",
    "    \n",
    "    # tipo de los argumentos\n",
    "    lib.asmVarianza.argtypes = [\n",
    "        np.ctypeslib.ndpointer(dtype = np.float64),\n",
    "        ctypes.c_int\n",
    "    ]\n",
    "\n",
    "    # definimos el tipo de salida de la función\n",
    "    lib.asmVarianza.restype = ctypes.c_double\n",
    "\n",
    "    # se devuelve la función configurada\n",
    "    return lib.asmVarianza"
   ]
  },
  {
   "cell_type": "code",
   "execution_count": 12,
   "id": "dc7d2d4b",
   "metadata": {},
   "outputs": [],
   "source": [
    "asmVarianza = ctypes_asmVarianza()"
   ]
  },
  {
   "cell_type": "markdown",
   "id": "968abd23",
   "metadata": {},
   "source": [
    "Probamos nuestra función"
   ]
  },
  {
   "cell_type": "code",
   "execution_count": 13,
   "id": "e1796857",
   "metadata": {},
   "outputs": [
    {
     "name": "stdout",
     "output_type": "stream",
     "text": [
      "Arreglo: [0.74671483 0.64799793 0.13995442 0.79571116 0.31613709 0.79493711\n",
      " 0.18363634]\n",
      "Varianza: 0.07407051566887539\n"
     ]
    }
   ],
   "source": [
    "print(\"Arreglo:\",end = \" \")\n",
    "print(arr)\n",
    "var = asmVarianza(arr, arr.size)\n",
    "print(\"Varianza:\",end = \" \")\n",
    "print(var)"
   ]
  },
  {
   "cell_type": "markdown",
   "id": "40f1cb60",
   "metadata": {},
   "source": [
    "# Comparación de tiempos de ejecución"
   ]
  },
  {
   "cell_type": "code",
   "execution_count": 14,
   "id": "377a1a4c",
   "metadata": {},
   "outputs": [],
   "source": [
    "def filtro_mediana(sign, ventana):\n",
    "    signc = []\n",
    "    tam = len(sign)\n",
    "    offs = int((ventana-1)/2)\n",
    "    for i in range(tam):\n",
    "        inicio = i - offs if (i - offs > 0) else i\n",
    "        fin = i + offs if (i + offs < tam) else tam\n",
    "        signc.append(statistics.median(sign[inicio:fin]))\n",
    "    return signc"
   ]
  },
  {
   "cell_type": "code",
   "execution_count": 15,
   "id": "bbe747c4",
   "metadata": {},
   "outputs": [],
   "source": [
    "# size of arrays\n",
    "sizes = 2**np.arange(11,18)\n",
    "\n",
    "# tiempo en C\n",
    "time_c = np.zeros((len(sizes),1),dtype = np.float64)\n",
    "\n",
    "# tiempo con ruido en C\n",
    "time_c_noise = np.zeros((len(sizes),1),dtype = np.float64)\n",
    "\n",
    "# tiempo en ASM\n",
    "time_asm = np.zeros((len(sizes),1),dtype = np.float64)\n",
    "\n",
    "# tiempo con ruido en ASM\n",
    "time_asm_noise = np.zeros((len(sizes),1),dtype = np.float64)"
   ]
  },
  {
   "cell_type": "code",
   "execution_count": 16,
   "id": "83aac204",
   "metadata": {},
   "outputs": [],
   "source": [
    "veces = 100\n",
    "tam = sizes[0]\n",
    "index = range(veces)\n",
    "tcp = []\n",
    "tasmp = []\n",
    "\n",
    "for i in range(veces):\n",
    "    # entradas\n",
    "    xp = np.random.rand(tam,1).astype(np.float64)\n",
    "    yp = np.random.rand(tam,1).astype(np.float64)\n",
    "    \n",
    "    # tiempo C\n",
    "    t = time.time()\n",
    "    cVarianza(xp,xp.size)\n",
    "    tcp.append(time.time() - t)\n",
    "    \n",
    "    # tiempo ASM\n",
    "    t = time.time()\n",
    "    asmVarianza(xp,xp.size)\n",
    "    tasmp.append(time.time() - t)"
   ]
  },
  {
   "cell_type": "code",
   "execution_count": 17,
   "id": "425b06e3",
   "metadata": {},
   "outputs": [
    {
     "data": {
      "image/png": "[encoded data removed]",
      "text/plain": [
       "<Figure size 432x288 with 1 Axes>"
      ]
     },
     "metadata": {
      "needs_background": "light"
     },
     "output_type": "display_data"
    }
   ],
   "source": [
    "plt.plot(index, tcp, 'r-', label='tiempo C')\n",
    "plt.plot(index, tasmp, 'b-', label='tiempo ASM')\n",
    "plt.xlabel('tamagno')\n",
    "plt.ylabel('tiempo')\n",
    "plt.legend()\n",
    "plt.show()"
   ]
  },
  {
   "cell_type": "code",
   "execution_count": null,
   "id": "9b513ec4",
   "metadata": {},
   "outputs": [],
   "source": []
  }
 ],
 "metadata": {
  "kernelspec": {
   "display_name": "Python 3 (ipykernel)",
   "language": "python",
   "name": "python3"
  },
  "language_info": {
   "codemirror_mode": {
    "name": "ipython",
    "version": 3
   },
   "file_extension": ".py",
   "mimetype": "text/x-python",
   "name": "python",
   "nbconvert_exporter": "python",
   "pygments_lexer": "ipython3",
   "version": "3.8.10"
  }
 },
 "nbformat": 4,
 "nbformat_minor": 5
}
