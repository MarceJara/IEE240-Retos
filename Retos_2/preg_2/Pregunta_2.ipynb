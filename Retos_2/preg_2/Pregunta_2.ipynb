{
 "cells": [
  {
   "cell_type": "markdown",
   "id": "a4c61e22",
   "metadata": {},
   "source": [
    "Importamos las librerías que vamos a necesitar"
   ]
  },
  {
   "cell_type": "code",
   "execution_count": null,
   "id": "d6271dfb",
   "metadata": {},
   "outputs": [],
   "source": [
    "import numpy as np\n",
    "import ctypes\n",
    "import time\n",
    "import statistics\n",
    "import matplotlib.pyplot as plt"
   ]
  },
  {
   "cell_type": "code",
   "execution_count": null,
   "id": "c8002380",
   "metadata": {},
   "outputs": [],
   "source": [
    "value = np.random.randint(10)"
   ]
  },
  {
   "cell_type": "markdown",
   "id": "144ee807",
   "metadata": {},
   "source": [
    "Creamos nuestra función de varianza en C"
   ]
  },
  {
   "cell_type": "code",
   "execution_count": null,
   "id": "760147b5",
   "metadata": {},
   "outputs": [],
   "source": [
    "%%file cLimite.c\n",
    "#include <stdio.h>\n",
    "#include <stdlib.h>\n",
    "#include <math.h>\n",
    "\n",
    "double cLimite(int N){\n",
    "    double f=1;\n",
    "    for(int i = 0; i<N; i++){\n",
    "        double tmp = 1 + 1/(double) N;\n",
    "        f *= tmp;\n",
    "    }\n",
    "    return f;\n",
    "}"
   ]
  },
  {
   "cell_type": "markdown",
   "id": "05031158",
   "metadata": {},
   "source": [
    "Linkeamos el ejecutable de C como una librería compartida para usar en python"
   ]
  },
  {
   "cell_type": "code",
   "execution_count": null,
   "id": "dae228ff",
   "metadata": {},
   "outputs": [],
   "source": [
    "! gcc -c -Wall -Werror -fpic cLimite.c\n",
    "! gcc -shared cLimite.o -o _cLimite.so"
   ]
  },
  {
   "cell_type": "markdown",
   "id": "9de74637",
   "metadata": {},
   "source": [
    "Definimos la función con ctypes en python"
   ]
  },
  {
   "cell_type": "code",
   "execution_count": null,
   "id": "dae5c794",
   "metadata": {},
   "outputs": [],
   "source": [
    "def ctypes_cLimite():\n",
    "    # ruta de la shared library\n",
    "    lib = ctypes.CDLL('./_cLimite.so')\n",
    "    \n",
    "    # tipo de los argumentos\n",
    "    lib.cLimite.argtypes = [\n",
    "        ctypes.c_int\n",
    "    ]\n",
    "\n",
    "    # definimos el tipo de salida de la función\n",
    "    lib.cLimite.restype = ctypes.c_double\n",
    "\n",
    "    # se devuelve la función configurada\n",
    "    return lib.cLimite"
   ]
  },
  {
   "cell_type": "code",
   "execution_count": null,
   "id": "d5fea315",
   "metadata": {},
   "outputs": [],
   "source": [
    "cLimite = ctypes_cLimite()"
   ]
  },
  {
   "cell_type": "markdown",
   "id": "6a5ee45b",
   "metadata": {},
   "source": [
    "Probamos nuestra función"
   ]
  },
  {
   "cell_type": "code",
   "execution_count": null,
   "id": "00b2ec6f",
   "metadata": {},
   "outputs": [],
   "source": [
    "print(\"Valor:\",end = \" \")\n",
    "print(value)\n",
    "var = cLimite(value)\n",
    "print(\"Limite:\",end = \" \")\n",
    "print(var)"
   ]
  },
  {
   "cell_type": "markdown",
   "id": "86a94f3b",
   "metadata": {},
   "source": [
    "Implementamos la misma función en lenguaje ensamblador"
   ]
  },
  {
   "cell_type": "code",
   "execution_count": null,
   "id": "a3b641b6",
   "metadata": {},
   "outputs": [],
   "source": [
    "%%file asmLimite.asm\n",
    "global asmLimite  \n",
    "section .text\n",
    "asmLimite:\n",
    "    xorpd xmm1,xmm1\n",
    "    xorpd xmm2,xmm2\n",
    "    xorpd xmm3,xmm3\n",
    "    mov r8, 1\n",
    "    cvtsi2sd xmm3,r8\n",
    "    cvtsi2sd xmm0, rdi\n",
    "base:\n",
    "    movsd xmm1, xmm3\n",
    "    divsd xmm1, xmm0\n",
    "    addsd xmm1, xmm3\n",
    "    mov rcx, rdi\n",
    "    movsd xmm2,xmm3\n",
    "power:\n",
    "    mulsd xmm2,xmm1\n",
    "    loop power\n",
    "    movsd xmm0,xmm2\n",
    "done:\n",
    "    ret "
   ]
  },
  {
   "cell_type": "code",
   "execution_count": null,
   "id": "fe144d76",
   "metadata": {},
   "outputs": [],
   "source": [
    "%%file asmLimite.c\n",
    "extern double asmLimite(int N);"
   ]
  },
  {
   "cell_type": "code",
   "execution_count": null,
   "id": "0a53b960",
   "metadata": {},
   "outputs": [],
   "source": [
    "! nasm -f elf64 -g asmLimite.asm -o asmLimite.o\n",
    "! gcc -shared asmLimite.o asmLimite.c -o asmLimite.so"
   ]
  },
  {
   "cell_type": "markdown",
   "id": "9c8918a7",
   "metadata": {},
   "source": [
    "Definimos la función con ctypes en python"
   ]
  },
  {
   "cell_type": "code",
   "execution_count": null,
   "id": "77ef3d8f",
   "metadata": {},
   "outputs": [],
   "source": [
    "def ctypes_asmLimite():\n",
    "    # ruta de la shared library\n",
    "    lib = ctypes.CDLL('./asmLimite.so')\n",
    "    \n",
    "    # tipo de los argumentos\n",
    "    lib.asmLimite.argtypes = [\n",
    "        ctypes.c_int\n",
    "    ]\n",
    "\n",
    "    # definimos el tipo de salida de la función\n",
    "    lib.asmLimite.restype = ctypes.c_double\n",
    "\n",
    "    # se devuelve la función configurada\n",
    "    return lib.asmLimite"
   ]
  },
  {
   "cell_type": "code",
   "execution_count": null,
   "id": "24ea36dd",
   "metadata": {},
   "outputs": [],
   "source": [
    "asmLimite = ctypes_asmLimite()"
   ]
  },
  {
   "cell_type": "markdown",
   "id": "f9e507ac",
   "metadata": {},
   "source": [
    "Probamos nuestra función"
   ]
  },
  {
   "cell_type": "code",
   "execution_count": null,
   "id": "f22205cd",
   "metadata": {},
   "outputs": [],
   "source": [
    "print(\"Valor:\",end = \" \")\n",
    "print(value)\n",
    "var = asmLimite(value)\n",
    "print(\"Limite:\",end = \" \")\n",
    "print(var)"
   ]
  },
  {
   "cell_type": "markdown",
   "id": "7bbb7f3e",
   "metadata": {},
   "source": [
    "# Comparación de tiempos de ejecución"
   ]
  },
  {
   "cell_type": "code",
   "execution_count": null,
   "id": "ee8b47e5",
   "metadata": {},
   "outputs": [],
   "source": [
    "def filtro_mediana(sign, ventana):\n",
    "    signc = []\n",
    "    tam = len(sign)\n",
    "    offs = int((ventana-1)/2)\n",
    "    for i in range(tam):\n",
    "        inicio = i - offs if (i - offs > 0) else i\n",
    "        fin = i + offs if (i + offs < tam) else tam\n",
    "        signc.append(statistics.median(sign[inicio:fin]))\n",
    "    return signc"
   ]
  },
  {
   "cell_type": "code",
   "execution_count": null,
   "id": "1ee899bc",
   "metadata": {},
   "outputs": [],
   "source": [
    "# size of arrays\n",
    "sizes = 2**np.arange(11,18)\n",
    "\n",
    "# tiempo en C\n",
    "time_c = np.zeros((len(sizes),1),dtype = np.float64)\n",
    "\n",
    "# tiempo con ruido en C\n",
    "time_c_noise = np.zeros((len(sizes),1),dtype = np.float64)\n",
    "\n",
    "# tiempo en ASM\n",
    "time_asm = np.zeros((len(sizes),1),dtype = np.float64)\n",
    "\n",
    "# tiempo con ruido en ASM\n",
    "time_asm_noise = np.zeros((len(sizes),1),dtype = np.float64)"
   ]
  },
  {
   "cell_type": "code",
   "execution_count": null,
   "id": "de64c4c3",
   "metadata": {},
   "outputs": [],
   "source": [
    "veces = 50\n",
    "tam = sizes[0]\n",
    "index = range(veces)\n",
    "tcp = []\n",
    "tasmp = []\n",
    "\n",
    "for i in range(veces):\n",
    "\n",
    "    # entradas\n",
    "    xp = np.random.randint(50)\n",
    "    \n",
    "    # tiempo C\n",
    "    t = time.time()\n",
    "    cLimite(xp)\n",
    "    tcp.append(time.time() - t)\n",
    "    \n",
    "    # tiempo ASM\n",
    "    t = time.time()\n",
    "    asmLimite(xp)\n",
    "    tasmp.append(time.time() - t)"
   ]
  },
  {
   "cell_type": "code",
   "execution_count": null,
   "id": "9a787231",
   "metadata": {},
   "outputs": [],
   "source": [
    "plt.plot(index, tcp, 'r-', label='tiempo C')\n",
    "plt.plot(index, tasmp, 'b-', label='tiempo ASM')\n",
    "plt.xlabel('tamagno')\n",
    "plt.ylabel('tiempo')\n",
    "plt.legend()\n",
    "plt.show()"
   ]
  },
  {
   "cell_type": "code",
   "execution_count": null,
   "id": "f54602ea",
   "metadata": {},
   "outputs": [],
   "source": []
  },
  {
   "cell_type": "markdown",
   "id": "b1925a1e",
   "metadata": {},
   "source": [
    "# ¿Qué sucede si N tiende a infinito?"
   ]
  },
  {
   "cell_type": "code",
   "execution_count": null,
   "id": "dd12aa68",
   "metadata": {},
   "outputs": [],
   "source": [
    "veces = 1000\n",
    "tam = sizes[0]\n",
    "index = range(veces)\n",
    "c_inf = []\n",
    "asm_inf = []\n",
    "step = 100\n",
    "for i in index:\n",
    "    c_inf.append(cLimite(i))\n",
    "    \n",
    "    #tasmp.append(asmLimite(i))"
   ]
  },
  {
   "cell_type": "code",
   "execution_count": null,
   "id": "493fc718",
   "metadata": {},
   "outputs": [],
   "source": [
    "plt.plot(index, c_inf, 'r-', label='Limite C')\n",
    "#plt.plot(index, tasmp, 'b-', label='Limite ASM')\n",
    "plt.ylabel('f(n)')\n",
    "plt.xlabel('n')\n",
    "plt.legend()\n",
    "plt.show()"
   ]
  },
  {
   "cell_type": "code",
   "execution_count": null,
   "id": "52d8d7a0",
   "metadata": {},
   "outputs": [],
   "source": [
    "var = cLimite(100000)\n",
    "print(\"Limite:\",end = \" \")\n",
    "print(var)"
   ]
  },
  {
   "cell_type": "markdown",
   "id": "b2800f0c",
   "metadata": {},
   "source": [
    "# SpeedUp"
   ]
  },
  {
   "cell_type": "code",
   "execution_count": null,
   "id": "a64fc9c4",
   "metadata": {},
   "outputs": [],
   "source": [
    "c_mean = statistics.mean(tcp)\n",
    "asm_mean = statistics.mean(tasmp)"
   ]
  },
  {
   "cell_type": "code",
   "execution_count": null,
   "id": "4493e79b",
   "metadata": {},
   "outputs": [],
   "source": [
    "speed_up = c_mean/asm_mean"
   ]
  },
  {
   "cell_type": "code",
   "execution_count": null,
   "id": "0a7db855",
   "metadata": {},
   "outputs": [],
   "source": [
    "speed_up"
   ]
  }
 ],
 "metadata": {
  "kernelspec": {
   "display_name": "Python 3 (ipykernel)",
   "language": "python",
   "name": "python3"
  },
  "language_info": {
   "codemirror_mode": {
    "name": "ipython",
    "version": 3
   },
   "file_extension": ".py",
   "mimetype": "text/x-python",
   "name": "python",
   "nbconvert_exporter": "python",
   "pygments_lexer": "ipython3",
   "version": "3.8.10"
  }
 },
 "nbformat": 4,
 "nbformat_minor": 5
}
