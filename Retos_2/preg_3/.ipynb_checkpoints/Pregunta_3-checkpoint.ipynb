{
 "cells": [
  {
   "cell_type": "markdown",
   "id": "a4c61e22",
   "metadata": {},
   "source": [
    "Importamos las librerías que vamos a necesitar"
   ]
  },
  {
   "cell_type": "code",
   "execution_count": 1,
   "id": "d6271dfb",
   "metadata": {},
   "outputs": [],
   "source": [
    "import numpy as np\n",
    "import ctypes\n",
    "import time\n",
    "import statistics\n",
    "import matplotlib.pyplot as plt"
   ]
  },
  {
   "cell_type": "code",
   "execution_count": 2,
   "id": "c8002380",
   "metadata": {},
   "outputs": [],
   "source": [
    "value = np.random.randint(100)"
   ]
  },
  {
   "cell_type": "markdown",
   "id": "144ee807",
   "metadata": {},
   "source": [
    "Creamos nuestra función de varianza en C"
   ]
  },
  {
   "cell_type": "code",
   "execution_count": 3,
   "id": "760147b5",
   "metadata": {},
   "outputs": [
    {
     "name": "stdout",
     "output_type": "stream",
     "text": [
      "Overwriting cLimitebin.c\n"
     ]
    }
   ],
   "source": [
    "%%file cLimitebin.c\n",
    "#include <stdio.h>\n",
    "#include <stdlib.h>\n",
    "\n",
    "double binaryExp(double a, int b){\n",
    "    if(b==0) return 1;\n",
    "    double tmp = binaryExp(a,b/2);\n",
    "    double result = tmp*tmp;\n",
    "    if(b%2 == 1) result *= a;\n",
    "    return result;    \n",
    "}\n",
    "\n",
    "double cLimiteBin(int N){\n",
    "    double base = 1.0 + 1.0/(double)N;\n",
    "    double result = binaryExp(base, N);\n",
    "\n",
    "    return result;\n",
    "}"
   ]
  },
  {
   "cell_type": "markdown",
   "id": "05031158",
   "metadata": {},
   "source": [
    "Linkeamos el ejecutable de C como una librería compartida para usar en python"
   ]
  },
  {
   "cell_type": "code",
   "execution_count": 4,
   "id": "dae228ff",
   "metadata": {},
   "outputs": [],
   "source": [
    "! gcc -c -Wall -Werror -fpic cLimitebin.c\n",
    "! gcc -shared cLimitebin.o -o cLimitebin.so"
   ]
  },
  {
   "cell_type": "markdown",
   "id": "9de74637",
   "metadata": {},
   "source": [
    "Definimos la función con ctypes en python"
   ]
  },
  {
   "cell_type": "code",
   "execution_count": 5,
   "id": "dae5c794",
   "metadata": {},
   "outputs": [],
   "source": [
    "def ctypes_cLimitebin():\n",
    "    # ruta de la shared library\n",
    "    lib = ctypes.CDLL('./cLimitebin.so')\n",
    "    \n",
    "    # tipo de los argumentos\n",
    "    lib.cLimiteBin.argtypes = [\n",
    "        ctypes.c_int\n",
    "    ]\n",
    "\n",
    "    # definimos el tipo de salida de la función\n",
    "    lib.cLimiteBin.restype = ctypes.c_double\n",
    "\n",
    "    # se devuelve la función configurada\n",
    "    return lib.cLimiteBin"
   ]
  },
  {
   "cell_type": "code",
   "execution_count": 6,
   "id": "d5fea315",
   "metadata": {},
   "outputs": [],
   "source": [
    "cLimitebin = ctypes_cLimitebin()"
   ]
  },
  {
   "cell_type": "markdown",
   "id": "6a5ee45b",
   "metadata": {},
   "source": [
    "Probamos nuestra función"
   ]
  },
  {
   "cell_type": "code",
   "execution_count": 7,
   "id": "00b2ec6f",
   "metadata": {},
   "outputs": [
    {
     "name": "stdout",
     "output_type": "stream",
     "text": [
      "Valor: 67\n",
      "Limite: 2.698269786018988\n"
     ]
    }
   ],
   "source": [
    "print(\"Valor:\",end = \" \")\n",
    "print(value)\n",
    "print(\"Limite:\",end = \" \")\n",
    "print(cLimitebin(value))"
   ]
  },
  {
   "cell_type": "markdown",
   "id": "86a94f3b",
   "metadata": {},
   "source": [
    "Implementamos la misma función en lenguaje ensamblador"
   ]
  },
  {
   "cell_type": "code",
   "execution_count": 8,
   "id": "a3b641b6",
   "metadata": {},
   "outputs": [
    {
     "name": "stdout",
     "output_type": "stream",
     "text": [
      "Overwriting asmLimiteBin.asm\n"
     ]
    }
   ],
   "source": [
    "%%file asmLimiteBin.asm\n",
    "global asmLimiteBin  \n",
    "section .text\n",
    "asmLimiteBin:\n",
    "    xorpd xmm0,xmm0\n",
    "    xorpd xmm1,xmm1\n",
    "    xorpd xmm3,xmm3\n",
    "    xor r8,r8\n",
    "    xor r12,r12\n",
    "    xor r13,r13\n",
    "    mov r12, rdi\n",
    "    mov r13, r12\n",
    "    mov r8, 1\n",
    "    cvtsi2sd xmm3,r8\n",
    "    cvtsi2sd xmm0, rdi\n",
    "    \n",
    "base:\n",
    "    movsd xmm1, xmm3\n",
    "    divsd xmm1, xmm0\n",
    "    addsd xmm1, xmm3 ; base en xmm1\n",
    "    \n",
    "    ;movsd xmm0,xmm1\n",
    "    ;jmp done\n",
    "    \n",
    "binExp:             ;while\n",
    "    cmp r12,0       ;     (b > 0){\n",
    "    jbe next1        ;\n",
    "    and r13,01H     ;if(b & 1){\n",
    "    cmp r13,01H     ;\n",
    "    jne next2       ;\n",
    "    mulsd xmm3,xmm1 ; res = res * a}\n",
    "    next2:          ;\n",
    "    mulsd xmm1,xmm1 ; a = a * a\n",
    "    shr r12,1       ; b >>=1}\n",
    "    mov r13,r12\n",
    "    jmp binExp      ;\n",
    "next1:    \n",
    "    movsd xmm0,xmm3 ;return res\n",
    "done:\n",
    "    ret "
   ]
  },
  {
   "cell_type": "code",
   "execution_count": 9,
   "id": "fe144d76",
   "metadata": {},
   "outputs": [
    {
     "name": "stdout",
     "output_type": "stream",
     "text": [
      "Overwriting asmLimiteBin.c\n"
     ]
    }
   ],
   "source": [
    "%%file asmLimiteBin.c\n",
    "extern double asmLimiteBin(int N);"
   ]
  },
  {
   "cell_type": "code",
   "execution_count": 10,
   "id": "0a53b960",
   "metadata": {},
   "outputs": [],
   "source": [
    "! nasm -f elf64 -g asmLimiteBin.asm -o asmLimiteBin.o\n",
    "! gcc -shared asmLimiteBin.o asmLimiteBin.c -o asmLimiteBin.so"
   ]
  },
  {
   "cell_type": "markdown",
   "id": "9c8918a7",
   "metadata": {},
   "source": [
    "Definimos la función con ctypes en python"
   ]
  },
  {
   "cell_type": "code",
   "execution_count": 11,
   "id": "77ef3d8f",
   "metadata": {},
   "outputs": [],
   "source": [
    "def ctypes_asmLimite():\n",
    "    # ruta de la shared library\n",
    "    lib = ctypes.CDLL('./asmLimiteBin.so')\n",
    "    \n",
    "    # tipo de los argumentos\n",
    "    lib.asmLimiteBin.argtypes = [\n",
    "        ctypes.c_int\n",
    "    ]\n",
    "\n",
    "    # definimos el tipo de salida de la función\n",
    "    lib.asmLimiteBin.restype = ctypes.c_double\n",
    "\n",
    "    # se devuelve la función configurada\n",
    "    return lib.asmLimiteBin"
   ]
  },
  {
   "cell_type": "code",
   "execution_count": 12,
   "id": "24ea36dd",
   "metadata": {},
   "outputs": [],
   "source": [
    "asmLimite = ctypes_asmLimite()"
   ]
  },
  {
   "cell_type": "markdown",
   "id": "f9e507ac",
   "metadata": {},
   "source": [
    "Probamos nuestra función"
   ]
  },
  {
   "cell_type": "code",
   "execution_count": 13,
   "id": "f22205cd",
   "metadata": {},
   "outputs": [
    {
     "name": "stdout",
     "output_type": "stream",
     "text": [
      "Valor: 100\n",
      "Limite: 1.0\n"
     ]
    }
   ],
   "source": [
    "value = 100\n",
    "print(\"Valor:\",end = \" \")\n",
    "print(value)\n",
    "print(\"Limite:\",end = \" \")\n",
    "print(asmLimite(value))"
   ]
  },
  {
   "cell_type": "markdown",
   "id": "7bbb7f3e",
   "metadata": {},
   "source": [
    "# Comparación de tiempos de ejecución"
   ]
  },
  {
   "cell_type": "code",
   "execution_count": 14,
   "id": "ee8b47e5",
   "metadata": {},
   "outputs": [],
   "source": [
    "def filtro_mediana(sign, ventana):\n",
    "    signc = []\n",
    "    tam = len(sign)\n",
    "    offs = int((ventana-1)/2)\n",
    "    for i in range(tam):\n",
    "        inicio = i - offs if (i - offs > 0) else i\n",
    "        fin = i + offs if (i + offs < tam) else tam\n",
    "        signc.append(statistics.median(sign[inicio:fin]))\n",
    "    return signc"
   ]
  },
  {
   "cell_type": "code",
   "execution_count": 15,
   "id": "1ee899bc",
   "metadata": {},
   "outputs": [],
   "source": [
    "# size of arrays\n",
    "sizes = 2**np.arange(11,18)\n",
    "\n",
    "# tiempo en C\n",
    "time_c = np.zeros((len(sizes),1),dtype = np.float64)\n",
    "\n",
    "# tiempo con ruido en C\n",
    "time_c_noise = np.zeros((len(sizes),1),dtype = np.float64)\n",
    "\n",
    "# tiempo en ASM\n",
    "time_asm = np.zeros((len(sizes),1),dtype = np.float64)\n",
    "\n",
    "# tiempo con ruido en ASM\n",
    "time_asm_noise = np.zeros((len(sizes),1),dtype = np.float64)"
   ]
  },
  {
   "cell_type": "code",
   "execution_count": 16,
   "id": "de64c4c3",
   "metadata": {},
   "outputs": [
    {
     "ename": "NameError",
     "evalue": "name 'cLimite' is not defined",
     "output_type": "error",
     "traceback": [
      "\u001b[0;31m---------------------------------------------------------------------------\u001b[0m",
      "\u001b[0;31mNameError\u001b[0m                                 Traceback (most recent call last)",
      "\u001b[0;32m/tmp/ipykernel_23695/3007452353.py\u001b[0m in \u001b[0;36m<module>\u001b[0;34m\u001b[0m\n\u001b[1;32m     12\u001b[0m     \u001b[0;31m# tiempo C\u001b[0m\u001b[0;34m\u001b[0m\u001b[0;34m\u001b[0m\u001b[0;34m\u001b[0m\u001b[0m\n\u001b[1;32m     13\u001b[0m     \u001b[0mt\u001b[0m \u001b[0;34m=\u001b[0m \u001b[0mtime\u001b[0m\u001b[0;34m.\u001b[0m\u001b[0mtime\u001b[0m\u001b[0;34m(\u001b[0m\u001b[0;34m)\u001b[0m\u001b[0;34m\u001b[0m\u001b[0;34m\u001b[0m\u001b[0m\n\u001b[0;32m---> 14\u001b[0;31m     \u001b[0mcLimite\u001b[0m\u001b[0;34m(\u001b[0m\u001b[0mxp\u001b[0m\u001b[0;34m)\u001b[0m\u001b[0;34m\u001b[0m\u001b[0;34m\u001b[0m\u001b[0m\n\u001b[0m\u001b[1;32m     15\u001b[0m     \u001b[0mtcp\u001b[0m\u001b[0;34m.\u001b[0m\u001b[0mappend\u001b[0m\u001b[0;34m(\u001b[0m\u001b[0mtime\u001b[0m\u001b[0;34m.\u001b[0m\u001b[0mtime\u001b[0m\u001b[0;34m(\u001b[0m\u001b[0;34m)\u001b[0m \u001b[0;34m-\u001b[0m \u001b[0mt\u001b[0m\u001b[0;34m)\u001b[0m\u001b[0;34m\u001b[0m\u001b[0;34m\u001b[0m\u001b[0m\n\u001b[1;32m     16\u001b[0m \u001b[0;34m\u001b[0m\u001b[0m\n",
      "\u001b[0;31mNameError\u001b[0m: name 'cLimite' is not defined"
     ]
    }
   ],
   "source": [
    "veces = 50\n",
    "tam = sizes[0]\n",
    "index = range(veces)\n",
    "tcp = []\n",
    "tasmp = []\n",
    "\n",
    "for i in range(veces):\n",
    "\n",
    "    # entradas\n",
    "    xp = np.random.randint(50)\n",
    "    \n",
    "    # tiempo C\n",
    "    t = time.time()\n",
    "    cLimite(xp)\n",
    "    tcp.append(time.time() - t)\n",
    "    \n",
    "    # tiempo ASM\n",
    "    t = time.time()\n",
    "    asmLimite(xp)\n",
    "    tasmp.append(time.time() - t)"
   ]
  },
  {
   "cell_type": "code",
   "execution_count": null,
   "id": "9a787231",
   "metadata": {},
   "outputs": [],
   "source": [
    "plt.plot(index, tcp, 'r-', label='tiempo C')\n",
    "plt.plot(index, tasmp, 'b-', label='tiempo ASM')\n",
    "plt.xlabel('tamagno')\n",
    "plt.ylabel('tiempo')\n",
    "plt.legend()\n",
    "plt.show()"
   ]
  },
  {
   "cell_type": "code",
   "execution_count": null,
   "id": "f54602ea",
   "metadata": {},
   "outputs": [],
   "source": []
  },
  {
   "cell_type": "markdown",
   "id": "b1925a1e",
   "metadata": {},
   "source": [
    "# ¿Qué sucede si N tiende a infinito?"
   ]
  },
  {
   "cell_type": "code",
   "execution_count": null,
   "id": "dd12aa68",
   "metadata": {},
   "outputs": [],
   "source": [
    "veces = 1000\n",
    "tam = sizes[0]\n",
    "index = range(veces)\n",
    "c_inf = []\n",
    "asm_inf = []\n",
    "step = 100\n",
    "for i in index:\n",
    "    c_inf.append(cLimite(i))\n",
    "    \n",
    "    #tasmp.append(asmLimite(i))"
   ]
  },
  {
   "cell_type": "code",
   "execution_count": null,
   "id": "493fc718",
   "metadata": {},
   "outputs": [],
   "source": [
    "plt.plot(index, c_inf, 'r-', label='Limite C')\n",
    "#plt.plot(index, tasmp, 'b-', label='Limite ASM')\n",
    "plt.ylabel('f(n)')\n",
    "plt.xlabel('n')\n",
    "plt.legend()\n",
    "plt.show()"
   ]
  },
  {
   "cell_type": "code",
   "execution_count": null,
   "id": "52d8d7a0",
   "metadata": {},
   "outputs": [],
   "source": [
    "var = cLimite(100000)\n",
    "print(\"Limite:\",end = \" \")\n",
    "print(var)"
   ]
  },
  {
   "cell_type": "code",
   "execution_count": null,
   "id": "b5b4a9d2",
   "metadata": {},
   "outputs": [],
   "source": []
  },
  {
   "cell_type": "code",
   "execution_count": null,
   "id": "a64fc9c4",
   "metadata": {},
   "outputs": [],
   "source": []
  },
  {
   "cell_type": "code",
   "execution_count": null,
   "id": "4493e79b",
   "metadata": {},
   "outputs": [],
   "source": []
  },
  {
   "cell_type": "code",
   "execution_count": null,
   "id": "0a7db855",
   "metadata": {},
   "outputs": [],
   "source": []
  }
 ],
 "metadata": {
  "kernelspec": {
   "display_name": "Python 3 (ipykernel)",
   "language": "python",
   "name": "python3"
  },
  "language_info": {
   "codemirror_mode": {
    "name": "ipython",
    "version": 3
   },
   "file_extension": ".py",
   "mimetype": "text/x-python",
   "name": "python",
   "nbconvert_exporter": "python",
   "pygments_lexer": "ipython3",
   "version": "3.8.10"
  }
 },
 "nbformat": 4,
 "nbformat_minor": 5
}
